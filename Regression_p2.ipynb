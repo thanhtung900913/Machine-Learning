{
  "nbformat": 4,
  "nbformat_minor": 0,
  "metadata": {
    "colab": {
      "provenance": [],
      "toc_visible": true
    },
    "kernelspec": {
      "name": "python3",
      "display_name": "Python 3"
    },
    "language_info": {
      "name": "python"
    }
  },
  "cells": [
    {
      "cell_type": "markdown",
      "source": [
        "##A1"
      ],
      "metadata": {
        "id": "37wC470Iqzw0"
      }
    },
    {
      "cell_type": "code",
      "source": [
        "import numpy as np\n",
        "import pandas as pd\n",
        "import matplotlib.pyplot as plt\n",
        "# Change to data path on your computer\n",
        "data = pd.read_csv(\"/content/SAT_GPA.csv\")\n",
        "# Show the description of data\n",
        "data.describe()\n",
        "# Set to training data (x, y)\n",
        "y = data['GPA']\n",
        "x = data['SAT']\n",
        "# Remind that we need to put component x_0 = 1 to x\n",
        "plt.scatter(x,y)\n",
        "plt.xlabel('SAT', fontsize = 20)\n",
        "plt.ylabel('GPA', fontsize = 20)\n",
        "plt.show()"
      ],
      "metadata": {
        "colab": {
          "base_uri": "https://localhost:8080/",
          "height": 463
        },
        "id": "xKkanpn8qzSV",
        "outputId": "cb562285-fe2b-4d87-ee94-833ee35ab0f7"
      },
      "execution_count": 196,
      "outputs": [
        {
          "output_type": "display_data",
          "data": {
            "text/plain": [
              "<Figure size 640x480 with 1 Axes>"
            ],
            "image/png": "[encoded data removed]"
          },
          "metadata": {}
        }
      ]
    },
    {
      "cell_type": "code",
      "source": [
        "print(x)\n",
        "print(y)"
      ],
      "metadata": {
        "colab": {
          "base_uri": "https://localhost:8080/"
        },
        "id": "juA1eK28yIZX",
        "outputId": "0a7a0604-45e4-484d-a6b7-adf7ea57dc06"
      },
      "execution_count": 197,
      "outputs": [
        {
          "output_type": "stream",
          "name": "stdout",
          "text": [
            "0     1714\n",
            "1     1664\n",
            "2     1760\n",
            "3     1685\n",
            "4     1693\n",
            "      ... \n",
            "79    1936\n",
            "80    1810\n",
            "81    1987\n",
            "82    1962\n",
            "83    2050\n",
            "Name: SAT, Length: 84, dtype: int64\n",
            "0     2.40\n",
            "1     2.52\n",
            "2     2.54\n",
            "3     2.74\n",
            "4     2.83\n",
            "      ... \n",
            "79    3.71\n",
            "80    3.71\n",
            "81    3.73\n",
            "82    3.76\n",
            "83    3.81\n",
            "Name: GPA, Length: 84, dtype: float64\n"
          ]
        }
      ]
    },
    {
      "cell_type": "code",
      "execution_count": 198,
      "metadata": {
        "id": "YaMAhKZFfKoF"
      },
      "outputs": [],
      "source": [
        "k = 8\n",
        "def distance(array, value):\n",
        "  array = np.array(array)\n",
        "  return abs(array-value)\n",
        "\n",
        "def find_nearest_index(array, value, k):\n",
        "  array_D = distance(array, value)\n",
        "  return np.argsort(array_D)[:k]\n",
        "\n",
        "\n",
        "data_len = len(x)\n",
        "X_train = np.array(x[:64])\n",
        "Y_train = np.array(y[:64])\n",
        "X_test = np.array(x[64:data_len])\n",
        "Y_test = np.array(y[64:data_len])\n",
        "k = 8"
      ]
    },
    {
      "cell_type": "code",
      "source": [
        "Y_pred = np.zeros(len(X_test))\n",
        "\n",
        "for i in range(len(X_test)):\n",
        "  indexis = find_nearest_index(X_train, X_test[i], k)\n",
        "  for id in indexis:\n",
        "    Y_pred[i] = Y_pred[i] + Y_train[id]\n",
        "  Y_pred[i] = Y_pred[i]/len(indexis)\n",
        "  print(Y_pred[i], ' | ', Y_test[i])"
      ],
      "metadata": {
        "colab": {
          "base_uri": "https://localhost:8080/"
        },
        "id": "5C1YWDydq8zs",
        "outputId": "42331bb1-b0e2-4027-a894-b91b3395e047"
      },
      "execution_count": 199,
      "outputs": [
        {
          "output_type": "stream",
          "name": "stdout",
          "text": [
            "3.3925000000000005  |  3.51\n",
            "3.2749999999999995  |  3.52\n",
            "3.2950000000000004  |  3.52\n",
            "3.3975000000000004  |  3.54\n",
            "3.2949999999999995  |  3.58\n",
            "3.3974999999999995  |  3.58\n",
            "3.3975000000000004  |  3.59\n",
            "3.2587500000000005  |  3.59\n",
            "3.3899999999999997  |  3.6\n",
            "3.3975000000000004  |  3.6\n",
            "3.3874999999999993  |  3.61\n",
            "3.3874999999999993  |  3.62\n",
            "3.3662499999999995  |  3.64\n",
            "3.3874999999999993  |  3.65\n",
            "3.295  |  3.71\n",
            "3.3975000000000004  |  3.71\n",
            "3.30875  |  3.71\n",
            "3.3662500000000004  |  3.73\n",
            "3.37625  |  3.76\n",
            "3.3874999999999993  |  3.81\n"
          ]
        }
      ]
    },
    {
      "cell_type": "code",
      "source": [
        "from sklearn.metrics import mean_squared_error, mean_absolute_error, r2_score\n",
        "\n",
        "mse = mean_squared_error(Y_test, Y_pred)\n",
        "mae = mean_absolute_error(Y_test, Y_pred)\n",
        "r2 = r2_score(Y_test, Y_pred)\n",
        "\n",
        "print(f'MSE: {mse}')\n",
        "print(f'MAE: {mae}')\n",
        "print(f'R^2: {r2}')\n"
      ],
      "metadata": {
        "colab": {
          "base_uri": "https://localhost:8080/"
        },
        "id": "GYF3JyGgwNoK",
        "outputId": "121a2252-d7e7-49ae-fb58-66424ae71dcb"
      },
      "execution_count": 200,
      "outputs": [
        {
          "output_type": "stream",
          "name": "stdout",
          "text": [
            "MSE: 0.08137789062500005\n",
            "MAE: 0.2711875000000001\n",
            "R^2: -10.951518670142468\n"
          ]
        }
      ]
    },
    {
      "cell_type": "markdown",
      "source": [
        "##A2"
      ],
      "metadata": {
        "id": "M77u1LVjsMjH"
      }
    },
    {
      "cell_type": "code",
      "source": [
        "from __future__ import division, print_function, unicode_literals\n",
        "import numpy as np\n",
        "import matplotlib.pyplot as plt\n",
        "\n",
        "# Temp (F degree)\n",
        "X = np.array([[194.5, 194.3, 197.9, 198.4, 199.4, 199.9, 200.9, 201.1, 201.4, 201.3, 203.6, 204.6, 209.5, 208.6, 210.7, 211.9, 212.2]]).T\n",
        "# Press (Atm)\n",
        "y = np.array([[20.79,20.79,22.4,22.67,23.15,23.35,23.89,23.99,24.02,24.01,25.14,26.57,28.49,27.76,29.04,29.88,30.06]]).T\n",
        "\n",
        "# Visualize data\n",
        "plt.plot(X, y, 'ro')\n",
        "plt.axis([193, 213, 19, 31])\n",
        "plt.xlabel('Temperature (F)')\n",
        "plt.ylabel('Pressure (Atm)')\n",
        "plt.show()\n",
        "\n",
        "\n"
      ],
      "metadata": {
        "colab": {
          "base_uri": "https://localhost:8080/",
          "height": 449
        },
        "id": "ogma4fgXsOQY",
        "outputId": "ece17703-d489-4e98-9088-296c63c1addd"
      },
      "execution_count": 201,
      "outputs": [
        {
          "output_type": "display_data",
          "data": {
            "text/plain": [
              "<Figure size 640x480 with 1 Axes>"
            ],
            "image/png": "[encoded data removed]"
          },
          "metadata": {}
        }
      ]
    },
    {
      "cell_type": "code",
      "source": [
        "# Tách dữ liệu: sử dụng 16 mẫu đầu tiên cho training và phần còn lại cho validation\n",
        "X_train = X[:16]       # Lấy 16 phần tử đầu tiên (dạng mảng 2 chiều)\n",
        "y_train = y[:16]\n",
        "\n",
        "X_val = X[16:]         # Phần tử từ vị trí 16 trở đi\n",
        "y_validate = y[16:]\n",
        "\n",
        "print(X_val)\n",
        "print(y_validate)\n",
        "print(len(y_validate))"
      ],
      "metadata": {
        "colab": {
          "base_uri": "https://localhost:8080/"
        },
        "id": "CxOzNIpOsfMX",
        "outputId": "17ee3397-0a52-4b90-c8ed-610a7431b360"
      },
      "execution_count": 202,
      "outputs": [
        {
          "output_type": "stream",
          "name": "stdout",
          "text": [
            "[[212.2]]\n",
            "[[30.06]]\n",
            "1\n"
          ]
        }
      ]
    },
    {
      "cell_type": "markdown",
      "source": [
        "###Manual"
      ],
      "metadata": {
        "id": "vbXYMzkY2c4W"
      }
    },
    {
      "cell_type": "code",
      "source": [
        "k = 4\n",
        "Y_pred = np.zeros(len(X_val))\n",
        "\n",
        "for i in range(len(X_val)):\n",
        "    indices = find_nearest_index(X_train, X_val[i], k)\n",
        "    Y_pred[i] = np.mean(y_train[indices])\n",
        "    print(f\"Predicted: {Y_pred[i]} | Actual: {y_validate[i][0]}\")\n",
        "\n"
      ],
      "metadata": {
        "colab": {
          "base_uri": "https://localhost:8080/"
        },
        "id": "UAS7csuCtLYw",
        "outputId": "4abaa0ae-6e8c-4be9-b728-79cd06baf562"
      },
      "execution_count": 203,
      "outputs": [
        {
          "output_type": "stream",
          "name": "stdout",
          "text": [
            "Predicted: 20.79 | Actual: 30.06\n"
          ]
        }
      ]
    },
    {
      "cell_type": "markdown",
      "source": [
        "###Using Pre-trained model"
      ],
      "metadata": {
        "id": "EW97smlr2iHR"
      }
    },
    {
      "cell_type": "code",
      "source": [
        "from sklearn.neighbors import KNeighborsRegressor"
      ],
      "metadata": {
        "id": "uk5a15Gk1q31"
      },
      "execution_count": 204,
      "outputs": []
    },
    {
      "cell_type": "code",
      "source": [
        "knn = KNeighborsRegressor(n_neighbors=4)\n",
        "knn.fit(X_train, y_train)\n",
        "Y_pred = knn.predict(X_val)"
      ],
      "metadata": {
        "id": "Vadt9oTO1jkt"
      },
      "execution_count": 205,
      "outputs": []
    },
    {
      "cell_type": "code",
      "source": [
        "print(f\"Predicted: {Y_pred[i]} | Actual: {y_validate[i][0]}\")"
      ],
      "metadata": {
        "colab": {
          "base_uri": "https://localhost:8080/"
        },
        "id": "157DQ8As5u2c",
        "outputId": "1b8ab767-e79b-4075-dc40-b74f5eb12bc9"
      },
      "execution_count": 206,
      "outputs": [
        {
          "output_type": "stream",
          "name": "stdout",
          "text": [
            "Predicted: [28.7925] | Actual: 30.06\n"
          ]
        }
      ]
    },
    {
      "cell_type": "code",
      "source": [
        "mse = mean_squared_error(y_validate, Y_pred)\n",
        "mae = mean_absolute_error(y_validate, Y_pred)\n",
        "\n",
        "print(f'MSE: {mse}')\n",
        "print(f'MAE: {mae}')"
      ],
      "metadata": {
        "colab": {
          "base_uri": "https://localhost:8080/"
        },
        "id": "v0-_bROEubyI",
        "outputId": "f6c9dbf7-3e29-4bf3-da76-7e8102274a10"
      },
      "execution_count": 207,
      "outputs": [
        {
          "output_type": "stream",
          "name": "stdout",
          "text": [
            "MSE: 1.6065562499999957\n",
            "MAE: 1.2674999999999983\n"
          ]
        }
      ]
    },
    {
      "cell_type": "markdown",
      "source": [
        "##A3"
      ],
      "metadata": {
        "id": "jNk5Jl8c3D0y"
      }
    },
    {
      "cell_type": "code",
      "source": [
        "import math\n",
        "import numpy as np\n",
        "with open('/content/fuel.txt') as f:\n",
        "  lines = f.readlines()\n",
        "\n",
        "x_data = []\n",
        "y_data = []\n",
        "lines.pop(0)\n",
        "\n",
        "for line in lines:\n",
        "  splitted = line.replace('\\n', '').split(',')\n",
        "  splitted.pop(0)\n",
        "  splitted = list(map(float, splitted))\n",
        "  fuel = 1000 * splitted[1] / splitted[5]\n",
        "  dlic = 1000 * splitted[0] / splitted[5]\n",
        "  logMiles = math.log2(splitted[3])\n",
        "  y_data.append([fuel])\n",
        "  x_data.append([splitted[-1], dlic, splitted[2], logMiles])\n",
        "\n",
        "x_data = np.asarray(x_data)"
      ],
      "metadata": {
        "id": "n2MoZSk03C8G"
      },
      "execution_count": 208,
      "outputs": []
    },
    {
      "cell_type": "code",
      "source": [
        "y_data = np.asarray(y_data)"
      ],
      "metadata": {
        "id": "lYU6_g7U4WWQ"
      },
      "execution_count": 209,
      "outputs": []
    },
    {
      "cell_type": "code",
      "source": [
        "# Tách dữ liệu: sử dụng 40 mẫu đầu tiên cho training và phần còn lại cho validation\n",
        "X_train = x_data[:40]\n",
        "y_train = y_data[:40]\n",
        "\n",
        "X_val = x_data[40:]\n",
        "y_val = y_data[40:]\n",
        "\n",
        "print(X_val)\n",
        "print(y_val)\n",
        "print(len(y_val))"
      ],
      "metadata": {
        "colab": {
          "base_uri": "https://localhost:8080/"
        },
        "id": "c5-0Lpot5JcS",
        "outputId": "df49138e-9894-4ce7-e364-0f667f21ec7e"
      },
      "execution_count": 210,
      "outputs": [
        {
          "output_type": "stream",
          "name": "stdout",
          "text": [
            "[[1.60000000e+01 9.14852671e+02 2.43210000e+04 1.60138242e+01]\n",
            " [2.20000000e+01 9.43895904e+02 2.61150000e+04 1.63505249e+01]\n",
            " [2.00000000e+01 9.42044365e+02 2.62390000e+04 1.64223605e+01]\n",
            " [2.00000000e+01 8.35295555e+02 2.78710000e+04 1.81982868e+01]\n",
            " [2.45000000e+01 9.35788546e+02 2.39070000e+04 1.53652288e+01]\n",
            " [2.00000000e+01 1.07528820e+03 2.69010000e+04 1.38028193e+01]\n",
            " [1.75000000e+01 8.89919514e+02 3.11620000e+04 1.61098511e+01]\n",
            " [2.30000000e+01 9.30856246e+02 3.15280000e+04 1.63053671e+01]\n",
            " [2.56500000e+01 9.04893601e+02 2.19150000e+04 1.51751207e+01]\n",
            " [2.73000000e+01 8.82329081e+02 2.82320000e+04 1.67816543e+01]\n",
            " [1.40000000e+01 9.70752746e+02 2.72300000e+04 1.47361905e+01]]\n",
            "[[711.73305769]\n",
            " [697.05277706]\n",
            " [638.23106095]\n",
            " [681.10013659]\n",
            " [591.49994589]\n",
            " [691.02271186]\n",
            " [681.03112144]\n",
            " [576.06974956]\n",
            " [562.4109333 ]\n",
            " [581.79371695]\n",
            " [842.79175243]]\n",
            "11\n"
          ]
        }
      ]
    },
    {
      "cell_type": "code",
      "source": [
        "knn = KNeighborsRegressor(n_neighbors=6)\n",
        "knn.fit(X_train, y_train)\n",
        "Y_pred = knn.predict(X_val)\n",
        "print(f\"Predicted: {Y_pred[i]} | Actual: {y_val[i][0]}\")"
      ],
      "metadata": {
        "colab": {
          "base_uri": "https://localhost:8080/"
        },
        "id": "9dHVnyvJ44os",
        "outputId": "53fe6619-e8b5-4eb2-f0d7-3fc8796d6261"
      },
      "execution_count": 211,
      "outputs": [
        {
          "output_type": "stream",
          "name": "stdout",
          "text": [
            "Predicted: [655.90295124] | Actual: 711.7330576894062\n"
          ]
        }
      ]
    },
    {
      "cell_type": "code",
      "source": [
        "from sklearn.metrics import mean_squared_error, mean_absolute_error, r2_score\n",
        "\n",
        "mse = mean_squared_error(y_val, Y_pred)\n",
        "mae = mean_absolute_error(y_val, Y_pred)\n",
        "r2 = r2_score(y_val, Y_pred)\n",
        "\n",
        "print(f'MSE: {mse}')\n",
        "print(f'MAE: {mae}')\n",
        "print(f'R^2: {r2}')\n"
      ],
      "metadata": {
        "colab": {
          "base_uri": "https://localhost:8080/"
        },
        "id": "TQBJhIqT6AXu",
        "outputId": "ec993a68-6569-4bf5-f3db-2160dfaf044f"
      },
      "execution_count": 212,
      "outputs": [
        {
          "output_type": "stream",
          "name": "stdout",
          "text": [
            "MSE: 6956.363785903602\n",
            "MAE: 65.31640461096231\n",
            "R^2: -0.13937316912292097\n"
          ]
        }
      ]
    },
    {
      "cell_type": "markdown",
      "source": [
        "##B1"
      ],
      "metadata": {
        "id": "Icyj2JwOAd1o"
      }
    },
    {
      "cell_type": "code",
      "source": [
        "# Building Xbar\n",
        "one = np.ones((X.shape[0], 1))\n",
        "Xbar = np.concatenate((one, X), axis = 1)\n",
        "\n",
        "# Calculating weights of the fitting line\n",
        "A = np.dot(Xbar.T, Xbar)\n",
        "b = np.dot(Xbar.T, y)"
      ],
      "metadata": {
        "id": "gneOdBf8Ajd7"
      },
      "execution_count": 213,
      "outputs": []
    },
    {
      "cell_type": "code",
      "source": [
        "w = np.dot(np.linalg.pinv(A), b)\n",
        "print('w = ', w)\n",
        "# Preparing the fitting line\n",
        "w_0 = w[0][0]\n",
        "w_1 = w[1][0]\n",
        "x0 = np.linspace(193, 213, 2)\n",
        "y0 = w_0 + w_1*x0\n",
        "\n",
        "# Drawing the fitting line\n",
        "plt.plot(X.T, y.T, 'ro') # data\n",
        "plt.plot(x0, y0) # the fitting line\n",
        "plt.axis([193, 213, 19, 31])\n",
        "plt.xlabel('Temperature (F)')\n",
        "plt.ylabel('Pressure (Atm)')\n",
        "plt.show()"
      ],
      "metadata": {
        "colab": {
          "base_uri": "https://localhost:8080/",
          "height": 484
        },
        "id": "-aPYr1g-A2jT",
        "outputId": "12ed648d-f782-46b9-8408-9c9ac5417973"
      },
      "execution_count": 214,
      "outputs": [
        {
          "output_type": "stream",
          "name": "stdout",
          "text": [
            "w =  [[-81.06372713]\n",
            " [  0.5228924 ]]\n"
          ]
        },
        {
          "output_type": "display_data",
          "data": {
            "text/plain": [
              "<Figure size 640x480 with 1 Axes>"
            ],
            "image/png": "[encoded data removed]"
          },
          "metadata": {}
        }
      ]
    },
    {
      "cell_type": "markdown",
      "source": [
        "##B2"
      ],
      "metadata": {
        "id": "DXm4Tx3W65xJ"
      }
    },
    {
      "cell_type": "markdown",
      "source": [
        "####Dùng QR"
      ],
      "metadata": {
        "id": "HIGztMTW7ooh"
      }
    },
    {
      "cell_type": "code",
      "source": [
        "import math\n",
        "import numpy as np\n",
        "with open('/content/fuel.txt') as f:\n",
        "  lines = f.readlines()\n",
        "\n",
        "x_data = []\n",
        "y_data = []\n",
        "lines.pop(0)\n",
        "\n",
        "for line in lines:\n",
        "  splitted = line.replace('\\n', '').split(',')\n",
        "  splitted.pop(0)\n",
        "  splitted = list(map(float, splitted))\n",
        "  fuel = 1000 * splitted[1] / splitted[5]\n",
        "  dlic = 1000 * splitted[0] / splitted[5]\n",
        "  logMiles = math.log2(splitted[3])\n",
        "  y_data.append([fuel])\n",
        "  x_data.append([splitted[-1], dlic, splitted[2], logMiles])\n",
        "\n",
        "x_data = np.asarray(x_data)"
      ],
      "metadata": {
        "id": "WlJP5cmp66-A"
      },
      "execution_count": 215,
      "outputs": []
    },
    {
      "cell_type": "code",
      "source": [
        "y_data = np.asarray(y_data)"
      ],
      "metadata": {
        "id": "nohBa39k7LW9"
      },
      "execution_count": 216,
      "outputs": []
    },
    {
      "cell_type": "code",
      "source": [
        "def qr_householder(A):\n",
        "  #\"\"\" Compute QR decomposition of A using Householder reflection\"\"\"\n",
        "  M = A.shape[0]\n",
        "  N = A.shape[1]\n",
        "\n",
        "  # set Q to the identity matrix\n",
        "  Q = np.identity(M)\n",
        "\n",
        "  # set R to zero matrix\n",
        "  R = np.copy(A)\n",
        "\n",
        "  for n in range(N):\n",
        "    # vector to transform\n",
        "    x = A[n:, n]\n",
        "    k = x.shape[0]\n",
        "    ro = -np.sign(x[0]) * np.linalg.norm(x)\n",
        "\n",
        "    # compute the householder vector v\n",
        "    e = np.zeros(k)\n",
        "    e[0] = 1\n",
        "    v = (1 / (x[0] - ro)) * (x - (ro * e))\n",
        "\n",
        "    # apply v to each column of A to find R\n",
        "    for i in range(N):\n",
        "      R[n:, i] = R[n:, i] - (2 / (v@v)) * ((np.outer(v, v)) @ R[n:, i])\n",
        "\n",
        "    # apply v to each column of Q\n",
        "    for i in range(M):\n",
        "      Q[n:, i] = Q[n:, i] - (2 / (v@v)) * ((np.outer(v, v)) @ Q[n:, i])\n",
        "\n",
        "  return Q.transpose(), R"
      ],
      "metadata": {
        "id": "-GK0xjrb7OJY"
      },
      "execution_count": 217,
      "outputs": []
    },
    {
      "cell_type": "code",
      "source": [
        "def linear_regression(x_data, y_data):\n",
        "# \"\"\"\n",
        "# This function calculate linear regression base on x_data and y_data\n",
        "# :param x_data: vector\n",
        "# :param y_data: vector\n",
        "# :return: w (regression estimate)\n",
        "# \"\"\"\n",
        "\n",
        "# add column 1\n",
        "  x_bars = np.concatenate((np.ones((x_data.shape[0], 1)), x_data), axis=1)\n",
        "\n",
        "  Q, R = qr_householder(x_bars) # QR decomposition\n",
        "  R_pinv = np.linalg.pinv(R) # calculate inverse matrix of R\n",
        "  A = np.dot(R_pinv, Q.T) # apply formula\n",
        "\n",
        "  return np.dot(A, y_data)"
      ],
      "metadata": {
        "id": "moDmZzJR7VOq"
      },
      "execution_count": 218,
      "outputs": []
    },
    {
      "cell_type": "code",
      "source": [
        "w = linear_regression(x_data, y_data) # get result\n",
        "w = w.T.tolist()"
      ],
      "metadata": {
        "id": "RpDfR_LP7hK4"
      },
      "execution_count": 219,
      "outputs": []
    },
    {
      "cell_type": "code",
      "source": [
        "print(w)"
      ],
      "metadata": {
        "colab": {
          "base_uri": "https://localhost:8080/"
        },
        "id": "vSsCGBkfGLdq",
        "outputId": "53b9969d-d0d9-45a6-8c00-12e91d2142a4"
      },
      "execution_count": 220,
      "outputs": [
        {
          "output_type": "stream",
          "name": "stdout",
          "text": [
            "[[154.19284457730845, -4.227983208329615, 0.4718712134419839, -0.006135330970417756, 18.545274506048013]]\n"
          ]
        }
      ]
    },
    {
      "cell_type": "code",
      "source": [
        "line = ['Intercept', 'Tax', \"Dlic\", \"Income\", 'LogMiles']\n",
        "res = list(zip(line, w[0]))\n",
        "for o in res:\n",
        "  print(\"{: >20}: {: >10}\".format(*o))"
      ],
      "metadata": {
        "colab": {
          "base_uri": "https://localhost:8080/"
        },
        "id": "u5YsNil87i0s",
        "outputId": "79134478-6454-47f8-e500-470abd4103fb"
      },
      "execution_count": 221,
      "outputs": [
        {
          "output_type": "stream",
          "name": "stdout",
          "text": [
            "           Intercept: 154.19284457730845\n",
            "                 Tax: -4.227983208329615\n",
            "                Dlic: 0.4718712134419839\n",
            "              Income: -0.006135330970417756\n",
            "            LogMiles: 18.545274506048013\n"
          ]
        }
      ]
    },
    {
      "cell_type": "markdown",
      "source": [
        "####Dùng sklearn"
      ],
      "metadata": {
        "id": "SmJ9hv6i7sPi"
      }
    },
    {
      "cell_type": "code",
      "source": [
        "from sklearn import datasets, linear_model\n",
        "# Load training data here and assign to Xbar (obs. Data) and y (label)\n",
        "# fit the model by Linear Regression\n",
        "regr = linear_model.LinearRegression(fit_intercept=False)\n",
        "# fit_intercept = False for calculating the bias\n",
        "regr.fit( np.concatenate((np.ones((x_data.shape[0], 1)), x_data), axis=1), y_data)\n",
        "# regr.fit( Xbar, y)\n",
        "\n",
        "for name, coef in zip(line, regr.coef_[0]):\n",
        "  print(f\"{name}:{coef}\")"
      ],
      "metadata": {
        "colab": {
          "base_uri": "https://localhost:8080/"
        },
        "id": "tjV-2VHS7rMk",
        "outputId": "e6b0e77e-3781-42f0-d8af-a30543728154"
      },
      "execution_count": 222,
      "outputs": [
        {
          "output_type": "stream",
          "name": "stdout",
          "text": [
            "Intercept:154.1928445773375\n",
            "Tax:-4.227983208329617\n",
            "Dlic:0.471871213441983\n",
            "Income:-0.0061353309704177406\n",
            "LogMiles:18.545274506048017\n"
          ]
        }
      ]
    },
    {
      "cell_type": "code",
      "source": [
        "Y_pred = knn.predict(X_val)\n",
        "for i in range(len(X_val)):\n",
        "    print(f\"Predicted: {Y_pred[i]} | Actual: {y_val[i]}\")"
      ],
      "metadata": {
        "colab": {
          "base_uri": "https://localhost:8080/"
        },
        "id": "TJ4SDril8cZB",
        "outputId": "4214354f-e345-4aa3-d3d3-d91b50348e60"
      },
      "execution_count": 223,
      "outputs": [
        {
          "output_type": "stream",
          "name": "stdout",
          "text": [
            "Predicted: [655.90295124] | Actual: [711.73305769]\n",
            "Predicted: [638.45605803] | Actual: [697.05277706]\n",
            "Predicted: [638.45605803] | Actual: [638.23106095]\n",
            "Predicted: [611.92699102] | Actual: [681.10013659]\n",
            "Predicted: [655.90295124] | Actual: [591.49994589]\n",
            "Predicted: [644.48982949] | Actual: [691.02271186]\n",
            "Predicted: [588.04446806] | Actual: [681.03112144]\n",
            "Predicted: [605.09984957] | Actual: [576.06974956]\n",
            "Predicted: [662.65313963] | Actual: [562.4109333]\n",
            "Predicted: [584.95242916] | Actual: [581.79371695]\n",
            "Predicted: [644.48982949] | Actual: [842.79175243]\n"
          ]
        }
      ]
    },
    {
      "cell_type": "markdown",
      "source": [
        "##B3 *Bài tập tự làm 1*"
      ],
      "metadata": {
        "id": "cHthMJY7BufG"
      }
    },
    {
      "cell_type": "code",
      "source": [
        "import numpy as np\n",
        "import pandas as pd\n",
        "import matplotlib.pyplot as plt\n",
        "# Change to data path on your computer\n",
        "data = pd.read_csv(\"/content/SAT_GPA.csv\")\n",
        "# Show the description of data\n",
        "data.describe()\n",
        "# Set to training data (x, y)\n",
        "y = data['GPA']\n",
        "x = data['SAT']"
      ],
      "metadata": {
        "id": "usHeliOtyTBQ"
      },
      "execution_count": 224,
      "outputs": []
    },
    {
      "cell_type": "markdown",
      "source": [
        "####i"
      ],
      "metadata": {
        "id": "liFiJnPF1dBw"
      }
    },
    {
      "cell_type": "code",
      "source": [
        "r = np.corrcoef(x, y)[0, 1]\n",
        "\n",
        "print(f\"Hệ số tương quan Pearson: {r:.4f}\")"
      ],
      "metadata": {
        "colab": {
          "base_uri": "https://localhost:8080/"
        },
        "id": "rIGTHzLzzErJ",
        "outputId": "2802b2af-ae6a-4b29-8967-e8a96298a4e2"
      },
      "execution_count": 225,
      "outputs": [
        {
          "output_type": "stream",
          "name": "stdout",
          "text": [
            "Hệ số tương quan Pearson: 0.6372\n"
          ]
        }
      ]
    },
    {
      "cell_type": "markdown",
      "source": [
        "####ii"
      ],
      "metadata": {
        "id": "ZL-UIhXF1ijs"
      }
    },
    {
      "cell_type": "code",
      "source": [
        "#Sử dụng lại dữ liệu A1, chia thành 2 tập\n",
        "data_len = len(x)\n",
        "X_train = np.array(x[:64])\n",
        "Y_train = np.array(y[:64])\n",
        "X_test = np.array(x[64:data_len])\n",
        "Y_test = np.array(y[64:data_len])"
      ],
      "metadata": {
        "id": "Sve2xPOvB6HA"
      },
      "execution_count": 226,
      "outputs": []
    },
    {
      "cell_type": "code",
      "source": [
        "X_train = np.asarray(X_train).reshape(-1, 1)\n",
        "Y_train = np.asarray(Y_train).reshape(-1, 1)"
      ],
      "metadata": {
        "id": "iktlVwgW1GMs"
      },
      "execution_count": 227,
      "outputs": []
    },
    {
      "cell_type": "code",
      "source": [
        "print(Y_train)"
      ],
      "metadata": {
        "colab": {
          "base_uri": "https://localhost:8080/"
        },
        "collapsed": true,
        "id": "dS6aV9E_5yvY",
        "outputId": "392e1b0c-bbd6-4e7d-f12b-99f3e2f66c8b"
      },
      "execution_count": 228,
      "outputs": [
        {
          "output_type": "stream",
          "name": "stdout",
          "text": [
            "[[2.4 ]\n",
            " [2.52]\n",
            " [2.54]\n",
            " [2.74]\n",
            " [2.83]\n",
            " [2.91]\n",
            " [3.  ]\n",
            " [3.  ]\n",
            " [3.01]\n",
            " [3.01]\n",
            " [3.02]\n",
            " [3.07]\n",
            " [3.08]\n",
            " [3.08]\n",
            " [3.12]\n",
            " [3.17]\n",
            " [3.17]\n",
            " [3.17]\n",
            " [3.17]\n",
            " [3.19]\n",
            " [3.19]\n",
            " [3.19]\n",
            " [3.2 ]\n",
            " [3.21]\n",
            " [3.24]\n",
            " [3.28]\n",
            " [3.28]\n",
            " [3.28]\n",
            " [3.28]\n",
            " [3.28]\n",
            " [3.28]\n",
            " [3.28]\n",
            " [3.29]\n",
            " [3.29]\n",
            " [3.29]\n",
            " [3.31]\n",
            " [3.32]\n",
            " [3.34]\n",
            " [3.37]\n",
            " [3.37]\n",
            " [3.37]\n",
            " [3.38]\n",
            " [3.38]\n",
            " [3.39]\n",
            " [3.39]\n",
            " [3.4 ]\n",
            " [3.4 ]\n",
            " [3.4 ]\n",
            " [3.41]\n",
            " [3.41]\n",
            " [3.41]\n",
            " [3.42]\n",
            " [3.42]\n",
            " [3.42]\n",
            " [3.44]\n",
            " [3.47]\n",
            " [3.47]\n",
            " [3.47]\n",
            " [3.47]\n",
            " [3.48]\n",
            " [3.49]\n",
            " [3.49]\n",
            " [3.5 ]\n",
            " [3.51]]\n"
          ]
        }
      ]
    },
    {
      "cell_type": "markdown",
      "source": [
        "####iii"
      ],
      "metadata": {
        "id": "6NIYlros1lOI"
      }
    },
    {
      "cell_type": "code",
      "source": [
        "#Xây dựng mô hình hồi quy dựa trên phương pháp phân rã QR bằng phản xạ Householder\n",
        "W = linear_regression(X_train, Y_train)"
      ],
      "metadata": {
        "id": "7ZH7BPdhtFMR"
      },
      "execution_count": 229,
      "outputs": []
    },
    {
      "cell_type": "code",
      "source": [
        "print(W)"
      ],
      "metadata": {
        "colab": {
          "base_uri": "https://localhost:8080/"
        },
        "id": "TUDOnw6J0Ncq",
        "outputId": "2a877855-b183-4af4-a466-82461397c1a1"
      },
      "execution_count": 230,
      "outputs": [
        {
          "output_type": "stream",
          "name": "stdout",
          "text": [
            "[[0.83820976]\n",
            " [0.00131839]]\n"
          ]
        }
      ]
    },
    {
      "cell_type": "code",
      "source": [
        "X_test = X_test.reshape(-1, 1)  # Chuyển thành (20,1)\n",
        "X_test = np.column_stack((np.ones(len(X_test)), X_test))"
      ],
      "metadata": {
        "id": "IfhNKojK3XNU"
      },
      "execution_count": 231,
      "outputs": []
    },
    {
      "cell_type": "code",
      "source": [
        "print(W.shape)\n",
        "print(X_test.shape)"
      ],
      "metadata": {
        "colab": {
          "base_uri": "https://localhost:8080/"
        },
        "id": "afy8ZmrN4MFv",
        "outputId": "192afb5d-6506-479a-d9ee-8d3b82fd0034"
      },
      "execution_count": 232,
      "outputs": [
        {
          "output_type": "stream",
          "name": "stdout",
          "text": [
            "(2, 1)\n",
            "(20, 2)\n"
          ]
        }
      ]
    },
    {
      "cell_type": "code",
      "source": [
        "Y_pred = np.dot(X_test, W)"
      ],
      "metadata": {
        "id": "8s6VgvIgs8Ol"
      },
      "execution_count": 233,
      "outputs": []
    },
    {
      "cell_type": "markdown",
      "source": [
        "####iv"
      ],
      "metadata": {
        "id": "HNfl1Rip9XkX"
      }
    },
    {
      "cell_type": "code",
      "source": [
        "# Tính các độ đo đánh giá\n",
        "mse = mean_squared_error(Y_test, Y_pred)\n",
        "mae = mean_absolute_error(Y_test, Y_pred)\n",
        "r2 = r2_score(Y_test, Y_pred)\n",
        "\n",
        "# In kết quả\n",
        "print(f\"MSE: {mse:.4f}\")\n",
        "print(f\"MAE: {mae:.4f}\")\n",
        "print(f\"R^2: {r2:.4f}\")"
      ],
      "metadata": {
        "colab": {
          "base_uri": "https://localhost:8080/"
        },
        "id": "DHuHHsff4yYz",
        "outputId": "3647117d-991a-43ab-dd53-0c148de7d463"
      },
      "execution_count": 234,
      "outputs": [
        {
          "output_type": "stream",
          "name": "stdout",
          "text": [
            "MSE: 0.0726\n",
            "MAE: 0.2488\n",
            "R^2: -9.6680\n"
          ]
        }
      ]
    },
    {
      "cell_type": "markdown",
      "source": [
        "####v"
      ],
      "metadata": {
        "id": "szz2rRf49heH"
      }
    },
    {
      "cell_type": "code",
      "source": [
        "#Nhận xét : phương pháp có độ chính xác tương dương nhau"
      ],
      "metadata": {
        "id": "HypV0JHc9wL6"
      },
      "execution_count": 235,
      "outputs": []
    },
    {
      "cell_type": "markdown",
      "source": [
        "##B4 *Bài tập 2*"
      ],
      "metadata": {
        "id": "2WOZ4cqGAL9r"
      }
    },
    {
      "cell_type": "code",
      "source": [
        "# Đọc dữ liệu, bỏ qua cột đầu tiên (ID)\n",
        "data = np.loadtxt(\"/content/vidu4_lin_reg.txt\", delimiter=\" \", skiprows=1)\n",
        "\n",
        "# Tách X4 (các cột trừ cột cuối) và Y4 (cột cuối)\n",
        "X4 = data[:, 1:-1]  # Bỏ ID và cột cuối\n",
        "Y4 = data[:, -1]    # Chỉ lấy cột cuối\n",
        "\n",
        "print(X4)\n",
        "print(Y4)"
      ],
      "metadata": {
        "colab": {
          "base_uri": "https://localhost:8080/"
        },
        "collapsed": true,
        "id": "t5_k5JJ8ALli",
        "outputId": "27d9224c-97d5-443c-d2e1-29c7ac755af5"
      },
      "execution_count": 236,
      "outputs": [
        {
          "output_type": "stream",
          "name": "stdout",
          "text": [
            "[[ 56.    21.   160.    14.     6.  ]\n",
            " [ 76.    18.   150.    12.     4.97]\n",
            " [ 63.    16.   160.     4.4    6.39]\n",
            " [ 78.    20.   100.     4.     7.  ]\n",
            " [ 87.    20.   110.     4.6    4.1 ]\n",
            " [ 76.    19.   150.     4.6    2.74]\n",
            " [ 55.    31.   160.     5.5    4.6 ]\n",
            " [ 74.    22.   100.     6.8    5.04]\n",
            " [ 81.    21.   120.     5.8    4.75]\n",
            " [ 77.    24.   160.     5.4    6.94]\n",
            " [ 29.    20.   120.     3.8    4.84]\n",
            " [ 71.    22.   160.     3.3    6.63]\n",
            " [ 77.    21.   160.     5.1    4.93]\n",
            " [ 59.    18.   150.     6.     4.55]\n",
            " [ 58.    27.   130.     6.9    6.7 ]\n",
            " [ 34.    19.   130.     4.5    3.2 ]\n",
            " [ 74.    22.   100.    10.6    4.3 ]\n",
            " [ 61.    19.   170.    18.     6.8 ]\n",
            " [ 53.    20.   130.    25.     5.5 ]\n",
            " [ 65.    28.   140.     6.5    6.8 ]\n",
            " [ 80.    19.   160.     4.8    5.74]\n",
            " [ 71.    25.   160.     6.2    6.9 ]\n",
            " [ 90.    24.   160.     4.7    7.  ]\n",
            " [ 44.    24.   120.     6.     3.4 ]\n",
            " [ 91.    27.   150.     6.1    4.92]\n",
            " [ 75.    22.   160.     6.2    6.08]\n",
            " [ 60.    24.   140.     4.7    6.25]\n",
            " [ 51.    22.   150.     4.8    5.4 ]\n",
            " [ 91.    29.   120.     4.2    6.54]\n",
            " [ 45.    24.   170.     4.9    3.91]\n",
            " [ 62.    24.   140.     5.4    5.3 ]\n",
            " [ 65.    19.   150.    12.     2.6 ]\n",
            " [ 70.    22.   160.     3.6    6.85]\n",
            " [ 56.    27.   150.     5.7    3.75]\n",
            " [ 51.    19.   120.     4.7    5.84]\n",
            " [ 75.    18.   140.    10.1    6.91]\n",
            " [ 58.    32.   160.     4.7    5.01]\n",
            " [ 61.    19.   160.     5.2    4.  ]\n",
            " [ 72.    18.   120.    22.2    4.88]\n",
            " [ 82.    25.    90.     8.2    4.2 ]\n",
            " [ 95.    24.   120.    11.     4.47]\n",
            " [ 56.    21.   160.     4.9    6.9 ]\n",
            " [ 36.    28.   130.     4.5    4.71]\n",
            " [ 67.    18.   100.     5.5    5.7 ]\n",
            " [ 64.    22.   130.     6.2    3.  ]\n",
            " [ 81.    22.   140.     5.     5.06]\n",
            " [ 46.    22.   160.     3.3    4.61]\n",
            " [ 56.    22.   150.     4.1    4.15]\n",
            " [ 60.    24.   140.     7.1    5.3 ]\n",
            " [ 35.    19.   120.     7.4    4.1 ]\n",
            " [ 55.    21.   160.     5.4    3.  ]\n",
            " [ 70.    20.   150.     6.2    2.57]\n",
            " [ 64.    23.   130.     5.7    6.78]\n",
            " [ 64.    19.   160.     5.9    5.62]\n",
            " [ 58.    27.   160.    26.     8.07]\n",
            " [ 73.    23.   140.     5.6    3.  ]\n",
            " [ 41.    24.   110.    10.     3.31]\n",
            " [ 74.    23.   100.     5.3    4.73]\n",
            " [ 21.    23.   160.     5.     4.  ]\n",
            " [ 67.    25.   150.     3.5    3.6 ]\n",
            " [ 57.    23.   140.     6.4    5.3 ]\n",
            " [ 69.    21.   120.     7.6    6.  ]\n",
            " [ 53.    34.   140.     8.1    6.49]\n",
            " [ 58.    23.   160.     9.     7.  ]\n",
            " [ 54.    29.   130.     6.4    7.48]\n",
            " [ 49.    17.   130.     6.3    5.19]\n",
            " [ 59.    22.   140.     7.     3.  ]\n",
            " [ 65.    23.   150.     5.9    6.7 ]\n",
            " [ 42.    22.   150.     3.9    7.  ]\n",
            " [ 75.    24.   100.     6.4    6.6 ]\n",
            " [ 72.    21.   140.    11.     5.75]\n",
            " [ 82.    24.   190.    18.     4.7 ]\n",
            " [ 70.    18.   160.     3.3    4.61]\n",
            " [ 42.    24.   160.     6.     6.3 ]\n",
            " [ 32.    19.   140.     4.     2.  ]\n",
            " [ 61.    21.   140.     5.2    2.5 ]\n",
            " [ 60.    26.   130.    11.3    4.79]\n",
            " [ 76.    19.   160.     5.1    5.31]\n",
            " [ 78.    27.   120.     4.9    3.8 ]\n",
            " [ 71.    26.   150.     6.6    7.13]\n",
            " [ 49.    24.   140.     4.3    5.5 ]\n",
            " [ 36.    23.   140.     4.3    4.2 ]\n",
            " [ 74.    21.   140.    17.     3.3 ]\n",
            " [ 53.    21.   140.     5.6    5.9 ]\n",
            " [ 56.    19.   140.     4.1    4.73]\n",
            " [ 60.    20.   160.     4.9    3.  ]\n",
            " [ 83.    21.   120.     7.9    5.88]\n",
            " [ 68.    23.   130.     4.     5.39]\n",
            " [ 69.    19.   100.     4.4    6.15]\n",
            " [ 31.    21.   120.     4.1    3.94]\n",
            " [ 34.    21.   140.     6.7    3.83]\n",
            " [ 41.    20.   120.     2.7    4.93]\n",
            " [ 72.    22.   160.     6.4    7.  ]\n",
            " [ 54.    22.   170.     6.2    8.18]\n",
            " [ 54.    28.   150.     4.2    8.16]\n",
            " [ 55.    24.   160.     5.     7.2 ]\n",
            " [ 76.    15.   140.     3.1    5.24]\n",
            " [ 70.    25.   180.     4.     4.4 ]\n",
            " [ 85.    21.   160.     5.2    5.2 ]\n",
            " [ 87.    22.   130.     9.     5.2 ]]\n",
            "[1.95 1.33 0.83 2.   1.3  1.16 1.   1.   0.8  1.6  0.65 1.   0.97 0.73\n",
            " 1.1  1.1  1.1  0.8  0.99 1.   1.13 1.   1.7  0.9  0.89 0.8  0.81 1.2\n",
            " 0.82 0.89 1.19 0.97 0.97 0.97 0.88 0.97 0.9  0.89 0.8  1.13 1.2  0.9\n",
            " 0.81 0.8  0.74 2.66 0.89 0.79 0.8  0.56 0.8  1.2  0.82 0.9  1.   1.15\n",
            " 1.16 0.97 0.8  1.67 1.06 1.1  0.8  1.7  0.99 1.16 0.62 1.   0.82 1.\n",
            " 1.7  2.3  0.89 0.97 0.7  1.1  1.01 1.15 0.92 1.1  0.8  0.7  1.   0.8\n",
            " 0.89 0.6  1.5  0.7  1.1  0.81 0.7  0.71 2.7  1.13 1.7  0.9  1.16 1.\n",
            " 0.97 2.3 ]\n"
          ]
        }
      ]
    },
    {
      "cell_type": "markdown",
      "source": [
        "####a. **Xác định hệ số bằng QR HouseHold**"
      ],
      "metadata": {
        "id": "Hu41gocUDKTf"
      }
    },
    {
      "cell_type": "code",
      "source": [
        "print(X4.shape)\n",
        "print(Y4.shape)"
      ],
      "metadata": {
        "colab": {
          "base_uri": "https://localhost:8080/"
        },
        "id": "GRe2JXg8DfOj",
        "outputId": "a6b29542-9324-4836-8f05-ac13a6ddfcd9"
      },
      "execution_count": 237,
      "outputs": [
        {
          "output_type": "stream",
          "name": "stdout",
          "text": [
            "(100, 5)\n",
            "(100,)\n"
          ]
        }
      ]
    },
    {
      "cell_type": "code",
      "source": [
        "W4 = linear_regression(X4, Y4)"
      ],
      "metadata": {
        "id": "53yRAHCHDJ0L"
      },
      "execution_count": 238,
      "outputs": []
    },
    {
      "cell_type": "code",
      "source": [
        "print(W4)"
      ],
      "metadata": {
        "colab": {
          "base_uri": "https://localhost:8080/"
        },
        "id": "M21SVY0vDATW",
        "outputId": "edbbe0d2-8cb3-4f43-da06-5cdf97f02211"
      },
      "execution_count": 239,
      "outputs": [
        {
          "output_type": "stream",
          "name": "stdout",
          "text": [
            "[-0.10802908  0.00994694 -0.00020655  0.00218137  0.0076701   0.03847025]\n"
          ]
        }
      ]
    },
    {
      "cell_type": "markdown",
      "source": [
        "####b."
      ],
      "metadata": {
        "id": "8I8wnETiDoCD"
      }
    },
    {
      "cell_type": "code",
      "source": [
        "# Chia dữ liệu thành train và test\n",
        "X4_train = X4[:80]\n",
        "Y4_train = Y4[:80]\n",
        "\n",
        "X4_test = X4[80:]\n",
        "Y4_test = Y4[80:]\n",
        "print(Y4_test.shape)"
      ],
      "metadata": {
        "colab": {
          "base_uri": "https://localhost:8080/"
        },
        "id": "Po8Ipil2ExIE",
        "outputId": "6033cdf4-ebd1-457f-ba6f-9cd51bdded30"
      },
      "execution_count": 240,
      "outputs": [
        {
          "output_type": "stream",
          "name": "stdout",
          "text": [
            "(20,)\n"
          ]
        }
      ]
    },
    {
      "cell_type": "code",
      "source": [
        "W4_v2 = linear_regression(X4_train, Y4_train)\n",
        "W4_v2 = W4_v2.reshape(-1, 1)\n",
        "print(W4_v2.shape)"
      ],
      "metadata": {
        "colab": {
          "base_uri": "https://localhost:8080/"
        },
        "id": "I1vk8Y7kFYpL",
        "outputId": "7b9b5108-5cef-445f-945e-e37b201fbf22"
      },
      "execution_count": 241,
      "outputs": [
        {
          "output_type": "stream",
          "name": "stdout",
          "text": [
            "(6, 1)\n"
          ]
        }
      ]
    },
    {
      "cell_type": "code",
      "source": [
        "X4_test = np.column_stack((np.ones(len(X4_test)), X4_test))\n",
        "print(X4_test.shape)"
      ],
      "metadata": {
        "colab": {
          "base_uri": "https://localhost:8080/"
        },
        "id": "u6_LEQtjFnxm",
        "outputId": "ea8a29bf-fb61-4e26-a10d-6ad7391d7cf4"
      },
      "execution_count": 242,
      "outputs": [
        {
          "output_type": "stream",
          "name": "stdout",
          "text": [
            "(20, 6)\n"
          ]
        }
      ]
    },
    {
      "cell_type": "code",
      "source": [
        "Y4_pred = np.dot(X4_test, W4_v2)\n",
        "print(Y4_pred)"
      ],
      "metadata": {
        "colab": {
          "base_uri": "https://localhost:8080/"
        },
        "id": "jn_ERzF_H5yn",
        "outputId": "f7572394-9f59-4110-a10e-d1013ca99685"
      },
      "execution_count": 243,
      "outputs": [
        {
          "output_type": "stream",
          "name": "stdout",
          "text": [
            "[[0.91012272]\n",
            " [0.78452963]\n",
            " [1.22339369]\n",
            " [0.96085817]\n",
            " [0.96836123]\n",
            " [1.05009561]\n",
            " [1.19694736]\n",
            " [1.0521678 ]\n",
            " [0.9936207 ]\n",
            " [0.68503543]\n",
            " [0.78429172]\n",
            " [0.77109845]\n",
            " [1.19748204]\n",
            " [1.06844174]\n",
            " [0.99721921]\n",
            " [1.03380704]\n",
            " [1.14558205]\n",
            " [1.19228584]\n",
            " [1.29236178]\n",
            " [1.26252546]]\n"
          ]
        }
      ]
    },
    {
      "cell_type": "markdown",
      "source": [
        "####c."
      ],
      "metadata": {
        "id": "DeWW8omvIIBb"
      }
    },
    {
      "cell_type": "code",
      "source": [
        "epsilon = Y4_test - Y4_pred  # Sai số\n",
        "\n",
        "# Tính kỳ vọng (mean) của sai số\n",
        "mean_error = np.mean(epsilon)\n",
        "\n",
        "# Tính phương sai (variance) của sai số\n",
        "variance_error = np.var(epsilon, ddof=0)\n",
        "\n",
        "print(\"Kỳ vọng của sai số:\", mean_error)\n",
        "print(\"Phương sai của sai số:\", variance_error)\n"
      ],
      "metadata": {
        "colab": {
          "base_uri": "https://localhost:8080/"
        },
        "id": "x5fvzfO0IJY2",
        "outputId": "0ad673ba-657c-4a4b-aeb7-d15c55098d87"
      },
      "execution_count": 244,
      "outputs": [
        {
          "output_type": "stream",
          "name": "stdout",
          "text": [
            "Kỳ vọng của sai số: 0.07998861696197125\n",
            "Phương sai của sai số: 0.3190263003695715\n"
          ]
        }
      ]
    },
    {
      "cell_type": "markdown",
      "source": [
        "##B5 *Bài tập tự làm 3*"
      ],
      "metadata": {
        "id": "fgkQfkZhJ1eE"
      }
    },
    {
      "cell_type": "code",
      "source": [
        "# Đọc dữ liệu\n",
        "data = pd.read_csv(\"/content/real_estate.csv\", sep=\",\")\n",
        "\n",
        "data = data.iloc[:, 1:]  # Bỏ cột đầu tiên (No)\n",
        "data.rename(columns=lambda x: x.strip(), inplace=True)  # Xóa khoảng trắng ở tên cột\n",
        "data[\"X1 transaction date\"] = data[\"X1 transaction date\"].astype(int)  # Chỉ lấy phần nguyên (năm)"
      ],
      "metadata": {
        "id": "LFfrAGNHMW2f"
      },
      "execution_count": 245,
      "outputs": []
    },
    {
      "cell_type": "code",
      "source": [
        "# Chia tập train và validation\n",
        "train_data = data.iloc[:350]\n",
        "val_data = data.iloc[350:]\n",
        "\n",
        "X_train = train_data.iloc[:, :-1].values  # Cột X1 đến X6\n",
        "Y_train = train_data.iloc[:, -1].values  # Cột Y\n",
        "\n",
        "X_val = val_data.iloc[:, :-1].values\n",
        "Y_val = val_data.iloc[:, -1].values"
      ],
      "metadata": {
        "id": "IMKSYpe1MbMm"
      },
      "execution_count": 246,
      "outputs": []
    },
    {
      "cell_type": "code",
      "source": [
        "#Hồi quy tuyến tính\n",
        "lr_model = linear_model.LinearRegression(fit_intercept=False)\n",
        "lr_model.fit(X_train, Y_train)\n",
        "Y_pred_lr = lr_model.predict(X_val)\n",
        "\n",
        "# Tính tổng bình phương sai số (SSE) cho hồi quy tuyến tính\n",
        "sse_lr = np.sum((Y_val - Y_pred_lr) ** 2)\n",
        "print(f\"SSE - Hồi quy tuyến tính: {sse_lr}\")\n",
        "\n",
        "# 5️⃣ K-NN với K = 18\n",
        "knn_model = KNeighborsRegressor(n_neighbors=18)\n",
        "knn_model.fit(X_train, Y_train)\n",
        "Y_pred_knn = knn_model.predict(X_val)\n",
        "\n",
        "# Tính SSE cho K-NN\n",
        "sse_knn = np.sum((Y_val - Y_pred_knn) ** 2)\n",
        "print(f\"SSE - K-NN (K=18): {sse_knn}\")"
      ],
      "metadata": {
        "colab": {
          "base_uri": "https://localhost:8080/"
        },
        "id": "1I4EvI_FJ89c",
        "outputId": "0ecec176-e7f7-4b7c-82cc-c124c27ed634"
      },
      "execution_count": 247,
      "outputs": [
        {
          "output_type": "stream",
          "name": "stdout",
          "text": [
            "SSE - Hồi quy tuyến tính: 4100.381553060164\n",
            "SSE - K-NN (K=18): 2820.7983024691357\n"
          ]
        }
      ]
    },
    {
      "cell_type": "code",
      "source": [
        "# Do sse của K-NN nhỏ hơn => K-NN tốt hơn"
      ],
      "metadata": {
        "id": "C81W_59QMD4X"
      },
      "execution_count": 248,
      "outputs": []
    }
  ]
}